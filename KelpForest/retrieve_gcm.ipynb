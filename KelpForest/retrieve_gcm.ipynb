{
 "cells": [
  {
   "cell_type": "code",
   "execution_count": 1,
   "id": "bb6162ee",
   "metadata": {},
   "outputs": [],
   "source": [
    "import xarray as xr\n",
    "import bcdp\n",
    "import pandas as pd"
   ]
  },
  {
   "cell_type": "code",
   "execution_count": 2,
   "id": "6adefdfb",
   "metadata": {},
   "outputs": [],
   "source": [
    "# Dataset Options\n",
    "variable_id = 'tos'\n",
    "experiment_id = ['historical', 'ssp126', 'ssp585']\n",
    "table_id = 'Omon'\n",
    "member_id = 'r1i1p1f1'\n",
    "grid_label = 'gr'\n",
    "source_id = 'GFDL-ESM4'\n",
    "\n",
    "# Processing Options\n",
    "backend = 'scipy'\n",
    "method = 'linear'\n",
    "res = (1.0, 1.0)\n",
    "lat_bnds = (26, 43)\n",
    "lon_bnds = (-130, -100)\n",
    "time_bnds = ('1900-01-01', '2101-01-01')"
   ]
  },
  {
   "cell_type": "code",
   "execution_count": null,
   "id": "269ba9f2",
   "metadata": {},
   "outputs": [
    {
     "name": "stdout",
     "output_type": "stream",
     "text": [
      "\n",
      "--> The keys in the returned dictionary of datasets are constructed as follows:\n",
      "\t'activity_id.institution_id.source_id.experiment_id.table_id.grid_label'\n"
     ]
    },
    {
     "data": {
      "text/html": [
       "\n",
       "<style>\n",
       "    /* Turns off some styling */\n",
       "    progress {\n",
       "        /* gets rid of default border in Firefox and Opera. */\n",
       "        border: none;\n",
       "        /* Needs to be in here for Safari polyfill so background images work as expected. */\n",
       "        background-size: auto;\n",
       "    }\n",
       "    progress:not([value]), progress:not([value])::-webkit-progress-bar {\n",
       "        background: repeating-linear-gradient(45deg, #7e7e7e, #7e7e7e 10px, #5c5c5c 10px, #5c5c5c 20px);\n",
       "    }\n",
       "    .progress-bar-interrupted, .progress-bar-interrupted::-webkit-progress-bar {\n",
       "        background: #F44336;\n",
       "    }\n",
       "</style>\n"
      ],
      "text/plain": [
       "<IPython.core.display.HTML object>"
      ]
     },
     "metadata": {},
     "output_type": "display_data"
    },
    {
     "data": {
      "text/html": [
       "\n",
       "    <div>\n",
       "      <progress value='3' class='' max='3' style='width:300px; height:20px; vertical-align: middle;'></progress>\n",
       "      100.00% [3/3 00:00&lt;00:00]\n",
       "    </div>\n",
       "    "
      ],
      "text/plain": [
       "<IPython.core.display.HTML object>"
      ]
     },
     "metadata": {},
     "output_type": "display_data"
    }
   ],
   "source": [
    "catfile = 'https://cmip6-pds.s3.amazonaws.com/pangeo-cmip6.json'\n",
    "query = dict(variable_id=variable_id, experiment_id=experiment_id, \n",
    "             table_id=table_id, member_id=member_id, grid_label=grid_label, \n",
    "             source_id=source_id)\n",
    "zarr_kwargs = dict(storage_options=dict(anon=True))\n",
    "datasets = bcdp.load_intake_esm(query, catfile=catfile, **zarr_kwargs)"
   ]
  },
  {
   "cell_type": "code",
   "execution_count": null,
   "id": "5ed80c1a",
   "metadata": {},
   "outputs": [],
   "source": [
    "bnds = bcdp.Bounds(time_bnds=('1900-01-01', '2101-01-01'), lat_bnds=lat_bnds, lon_bnds=lon_bnds)\n",
    "datasets = datasets.subset(bnds).compute()"
   ]
  },
  {
   "cell_type": "code",
   "execution_count": null,
   "id": "f564a10d",
   "metadata": {},
   "outputs": [],
   "source": [
    "grid = bcdp.utils.grid_from_res(res, bnds)\n",
    "regridded = datasets.regrid(grid, backend=backend, method=method)"
   ]
  },
  {
   "cell_type": "code",
   "execution_count": null,
   "id": "9d0f7018",
   "metadata": {},
   "outputs": [],
   "source": [
    "regridded.names"
   ]
  },
  {
   "cell_type": "code",
   "execution_count": null,
   "id": "300a6b04",
   "metadata": {},
   "outputs": [],
   "source": [
    "results = {}\n",
    "results['ssp126'] = xr.concat([regridded['CMIP.NOAA-GFDL.GFDL-ESM4.historical.Omon.gr'], \n",
    "                               regridded['ScenarioMIP.NOAA-GFDL.GFDL-ESM4.ssp126.Omon.gr']], 'time')\n",
    "results['ssp585'] = xr.concat([regridded['CMIP.NOAA-GFDL.GFDL-ESM4.historical.Omon.gr'], \n",
    "                               regridded['ScenarioMIP.NOAA-GFDL.GFDL-ESM4.ssp585.Omon.gr']], 'time')\n",
    "for scen, ds in results.items():\n",
    "    ds.name = 'tos'\n",
    "    fname = f'{variable_id}_{table_id}_{source_id}_{scen}_{member_id}_gr_19000101-21001231.nc'\n",
    "    ds = ds.dropna(how='all', dim='x').dropna(how='all', dim='y')\n",
    "    ds.to_netcdf(f'/home/jovyan/shared/data/ecopro/KelpForest/cmip6/{fname}')"
   ]
  }
 ],
 "metadata": {
  "kernelspec": {
   "display_name": "Python 3 (ipykernel)",
   "language": "python",
   "name": "python3"
  },
  "language_info": {
   "codemirror_mode": {
    "name": "ipython",
    "version": 3
   },
   "file_extension": ".py",
   "mimetype": "text/x-python",
   "name": "python",
   "nbconvert_exporter": "python",
   "pygments_lexer": "ipython3",
   "version": "3.8.12"
  }
 },
 "nbformat": 4,
 "nbformat_minor": 5
}
